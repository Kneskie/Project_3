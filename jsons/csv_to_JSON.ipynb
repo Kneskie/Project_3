{
 "cells": [
  {
   "cell_type": "code",
   "execution_count": 9,
   "id": "65498f8f",
   "metadata": {},
   "outputs": [],
   "source": [
    "import pandas as pd\n",
    "import json"
   ]
  },
  {
   "cell_type": "code",
   "execution_count": 10,
   "id": "86614760",
   "metadata": {},
   "outputs": [],
   "source": [
    "# List of CSV file names\n",
    "csv_files = ['Age-adjusted Non-Opiod Mortality Rates, Count, and Percentages, by Race, Philadelphia, 2010-2021.csv', 'Rates , Count, and Column Percentages of Non-Opioid Overdose-Related Deaths by Age Category, Philadelphia, PA, 2010-2021.csv', 'Age-adjusted Opiod Mortality Rates, Count, and Percentages, by Race, Philadelphia, 2010-2021.csv', 'Non-Opioid-Related Overdose Mortality Rate, Count, Percent by Sex Assigned at Birth, Philadelphia, 2010 2021.csv', 'Opioid-Related Overdose Mortality Rate, Count, Percent by Sex Assigned at Birth, Philadelphia, 2010-2021.csv', 'Rates , Count, and Column Percentages of Non-Opioid Overdose-Related Deaths by Age Category, Philadelphia, PA, 2010-2021.csv']"
   ]
  },
  {
   "cell_type": "code",
   "execution_count": 11,
   "id": "3cb72459",
   "metadata": {},
   "outputs": [],
   "source": [
    "# Function to convert CSV to JSON\n",
    "def csv_to_json(csv_file):\n",
    "    # Read CSV file\n",
    "    data = pd.read_csv(csv_file)\n",
    "\n",
    "    # Convert to JSON format\n",
    "    json_data = data.to_json(orient='records')\n",
    "\n",
    "    # Save JSON data to a file\n",
    "    with open(f\"{csv_file.split('.')[0]}.json\", 'w') as json_file:\n",
    "        json_file.write(json_data)"
   ]
  },
  {
   "cell_type": "code",
   "execution_count": 12,
   "id": "78c45794",
   "metadata": {},
   "outputs": [],
   "source": [
    "# Iterate through the list of CSV files and convert each to JSON\n",
    "for csv_file in csv_files:\n",
    "    csv_to_json(csv_file)"
   ]
  },
  {
   "cell_type": "code",
   "execution_count": null,
   "id": "fd4ba5c3",
   "metadata": {},
   "outputs": [],
   "source": []
  }
 ],
 "metadata": {
  "kernelspec": {
   "display_name": "Python 3 (ipykernel)",
   "language": "python",
   "name": "python3"
  },
  "language_info": {
   "codemirror_mode": {
    "name": "ipython",
    "version": 3
   },
   "file_extension": ".py",
   "mimetype": "text/x-python",
   "name": "python",
   "nbconvert_exporter": "python",
   "pygments_lexer": "ipython3",
   "version": "3.9.13"
  }
 },
 "nbformat": 4,
 "nbformat_minor": 5
}
