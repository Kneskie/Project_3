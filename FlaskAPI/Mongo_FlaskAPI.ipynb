{
 "cells": [
  {
   "cell_type": "code",
   "execution_count": 1,
   "id": "905f6b40",
   "metadata": {},
   "outputs": [
    {
     "name": "stdout",
     "output_type": "stream",
     "text": [
      "Requirement already satisfied: Flask in c:\\users\\raymo\\anaconda\\lib\\site-packages (1.1.2)\n",
      "Collecting Flask-Cors\n",
      "  Downloading Flask_Cors-3.0.10-py2.py3-none-any.whl (14 kB)\n",
      "Collecting Flask-PyMongo\n",
      "  Downloading Flask_PyMongo-2.3.0-py2.py3-none-any.whl (12 kB)\n",
      "Requirement already satisfied: dnspython in c:\\users\\raymo\\anaconda\\lib\\site-packages (2.3.0)\n",
      "Requirement already satisfied: itsdangerous>=0.24 in c:\\users\\raymo\\anaconda\\lib\\site-packages (from Flask) (2.0.1)\n",
      "Requirement already satisfied: Werkzeug>=0.15 in c:\\users\\raymo\\anaconda\\lib\\site-packages (from Flask) (2.0.3)\n",
      "Requirement already satisfied: click>=5.1 in c:\\users\\raymo\\anaconda\\lib\\site-packages (from Flask) (8.0.4)\n",
      "Requirement already satisfied: Jinja2>=2.10.1 in c:\\users\\raymo\\anaconda\\lib\\site-packages (from Flask) (2.11.3)\n",
      "Requirement already satisfied: Six in c:\\users\\raymo\\anaconda\\lib\\site-packages (from Flask-Cors) (1.16.0)\n",
      "Requirement already satisfied: PyMongo>=3.3 in c:\\users\\raymo\\anaconda\\lib\\site-packages (from Flask-PyMongo) (4.3.3)\n",
      "Requirement already satisfied: colorama in c:\\users\\raymo\\anaconda\\lib\\site-packages (from click>=5.1->Flask) (0.4.5)\n",
      "Requirement already satisfied: MarkupSafe>=0.23 in c:\\users\\raymo\\anaconda\\lib\\site-packages (from Jinja2>=2.10.1->Flask) (2.0.1)\n",
      "Installing collected packages: Flask-PyMongo, Flask-Cors\n",
      "Successfully installed Flask-Cors-3.0.10 Flask-PyMongo-2.3.0\n",
      "Note: you may need to restart the kernel to use updated packages.\n"
     ]
    }
   ],
   "source": [
    "pip install Flask Flask-Cors Flask-PyMongo dnspython"
   ]
  },
  {
   "cell_type": "code",
   "execution_count": 12,
   "id": "0a3fea6a",
   "metadata": {},
   "outputs": [],
   "source": [
    "from flask import Flask, jsonify, render_template\n",
    "from flask_cors import CORS\n",
    "from flask_pymongo import PyMongo\n",
    "from pymongo import MongoClient\n",
    "import json\n",
    "import requests \n",
    "from pprint import pprint\n"
   ]
  },
  {
   "cell_type": "code",
   "execution_count": 13,
   "id": "72ef24ea",
   "metadata": {},
   "outputs": [],
   "source": [
    "app = Flask(__name__)\n",
    "CORS(app)\n",
    "\n",
    "# Replace the following with your MongoDB URI and database name\n",
    "# Create an instance of MongoClient\n",
    "mongo = MongoClient('mongodb://localhost:27017/')"
   ]
  },
  {
   "cell_type": "code",
   "execution_count": 14,
   "id": "a8c5fe7a",
   "metadata": {},
   "outputs": [],
   "source": [
    "# assign the imdb database to a variable name\n",
    "PhiladelphiaOpiod = mongo['PhiladelphiaOpiodCrisis']"
   ]
  },
  {
   "cell_type": "code",
   "execution_count": 15,
   "id": "5fd8ef3f",
   "metadata": {},
   "outputs": [],
   "source": [
    "# List of collection names\n",
    "collections = [\n",
    "    \"Age-adjusted Non-Opiod Mortality Rates, Count, and Percentages, by Race, Philadelphia, 2010-2021\",\n",
    "    \"Age-adjusted Opiod Mortality Rates, Count, and Percentages, by Race, Philadelphia, 2010-2021\",\n",
    "    \"Non-Opioid-Related Overdose Mortality Rate, Count, Percent by Sex Assigned at Birth, Philadelphia, 2010 2021\",\n",
    "    \"Opioid Detection, Philadelphia 2010-2020\",\n",
    "    \"Opioid-Related Overdose Mortality Rate, Count, Percent by Sex Assigned at Birth, Philadelphia, 2010-2021\",\n",
    "    \"Rates , Count, and Column Percentages of Non-Opioid Overdose-Related Deaths by Age Category, Philadelphia, PA, 2010-2021\",\n",
    "    \"Rates , Count, and Column Percentages of Opioid Overdose-Related Deaths by Age Category, Philadelphia, PA, 2010-2021\"\n",
    "]"
   ]
  },
  {
   "cell_type": "code",
   "execution_count": 16,
   "id": "727d5c82",
   "metadata": {},
   "outputs": [
    {
     "name": "stdout",
     "output_type": "stream",
     "text": [
      " * Serving Flask app \"__main__\" (lazy loading)\n",
      " * Environment: production\n",
      "\u001b[31m   WARNING: This is a development server. Do not use it in a production deployment.\u001b[0m\n",
      "\u001b[2m   Use a production WSGI server instead.\u001b[0m\n",
      " * Debug mode: on\n"
     ]
    },
    {
     "name": "stderr",
     "output_type": "stream",
     "text": [
      " * Restarting with watchdog (windowsapi)\n"
     ]
    },
    {
     "ename": "SystemExit",
     "evalue": "1",
     "output_type": "error",
     "traceback": [
      "An exception has occurred, use %tb to see the full traceback.\n",
      "\u001b[1;31mSystemExit\u001b[0m\u001b[1;31m:\u001b[0m 1\n"
     ]
    }
   ],
   "source": [
    "@app.route('/')\n",
    "def index():\n",
    "    return render_template('index.html')\n",
    "\n",
    "@app.route('/api/data')\n",
    "def get_data():\n",
    "    all_data = {}\n",
    "\n",
    "    for collection_name in collections:\n",
    "        collection = PhiladelphiaOpiod[collection_name]\n",
    "        data = []\n",
    "\n",
    "        for item in collection.find():\n",
    "            item.pop('_id', None)  # Remove the '_id' field, as it's not JSON serializable\n",
    "            data.append(item)\n",
    "\n",
    "        all_data[collection_name] = data\n",
    "\n",
    "    return jsonify(all_data)\n",
    "\n",
    "if __name__ == \"__main__\":\n",
    "    app.run(debug=True)"
   ]
  },
  {
   "cell_type": "code",
   "execution_count": null,
   "id": "d8fa9fec",
   "metadata": {},
   "outputs": [],
   "source": []
  }
 ],
 "metadata": {
  "kernelspec": {
   "display_name": "Python 3 (ipykernel)",
   "language": "python",
   "name": "python3"
  },
  "language_info": {
   "codemirror_mode": {
    "name": "ipython",
    "version": 3
   },
   "file_extension": ".py",
   "mimetype": "text/x-python",
   "name": "python",
   "nbconvert_exporter": "python",
   "pygments_lexer": "ipython3",
   "version": "3.9.13"
  }
 },
 "nbformat": 4,
 "nbformat_minor": 5
}
