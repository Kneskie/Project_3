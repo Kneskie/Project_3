{
 "cells": [
  {
   "cell_type": "code",
   "execution_count": 48,
   "id": "3459d3db",
   "metadata": {},
   "outputs": [],
   "source": [
    "import pandas as pd"
   ]
  },
  {
   "cell_type": "code",
   "execution_count": 49,
   "id": "196932a4",
   "metadata": {},
   "outputs": [],
   "source": [
    "def categorize_deaths(value):\n",
    "    if not pd.isna(value) and isinstance(value, (int, float)):\n",
    "        if 6 <= value <= 24:\n",
    "            return '\"6-24\"'\n",
    "        elif 25 <= value <= 49:\n",
    "            return '\"25-49\"'\n",
    "        elif 50 <= value <= 99:\n",
    "            return '\"50-99\"'\n",
    "        elif value >= 100:\n",
    "            return '\"100+\"'\n",
    "    return None"
   ]
  },
  {
   "cell_type": "code",
   "execution_count": 50,
   "id": "89357ae3",
   "metadata": {},
   "outputs": [],
   "source": [
    "#Read the Excel file\n",
    "file_name = \"Number of overdoses by incident location 2019-2021.xlsx\"\n",
    "df = pd.read_excel(file_name)"
   ]
  },
  {
   "cell_type": "code",
   "execution_count": 51,
   "id": "8b8459f0",
   "metadata": {},
   "outputs": [],
   "source": [
    "# Categorize death numbers in 2019 and 2020 columns\n",
    "df['2019 Number of Deaths'] = df['2019 Number of Deaths'].apply(categorize_deaths)\n",
    "df['2020 Number of Deaths'] = df['2020 Number of Deaths'].apply(categorize_deaths)"
   ]
  },
  {
   "cell_type": "code",
   "execution_count": 53,
   "id": "a1c8e32d",
   "metadata": {},
   "outputs": [],
   "source": [
    "# Save the modified DataFrame to a new CSV file\n",
    "output_file_name = \"Number of overdoses by incident location 2019-2020\"\n",
    "df.to_csv(output_file_name, index=False, encoding='utf-8')"
   ]
  },
  {
   "cell_type": "code",
   "execution_count": null,
   "id": "14a79641",
   "metadata": {},
   "outputs": [],
   "source": []
  }
 ],
 "metadata": {
  "kernelspec": {
   "display_name": "Python 3 (ipykernel)",
   "language": "python",
   "name": "python3"
  },
  "language_info": {
   "codemirror_mode": {
    "name": "ipython",
    "version": 3
   },
   "file_extension": ".py",
   "mimetype": "text/x-python",
   "name": "python",
   "nbconvert_exporter": "python",
   "pygments_lexer": "ipython3",
   "version": "3.9.13"
  }
 },
 "nbformat": 4,
 "nbformat_minor": 5
}
