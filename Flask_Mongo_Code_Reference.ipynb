{
 "cells": [
  {
   "cell_type": "markdown",
   "id": "46b4930d",
   "metadata": {},
   "source": [
    "Sample Code to connect pymongo, flask and html on one page "
   ]
  },
  {
   "cell_type": "code",
   "execution_count": 6,
   "id": "105eeb3b",
   "metadata": {},
   "outputs": [
    {
     "data": {
      "text/plain": [
       "True"
      ]
     },
     "execution_count": 6,
     "metadata": {},
     "output_type": "execute_result"
    }
   ],
   "source": [
    "# import dependencies needed \n",
    "import json\n",
    "from flask import Flask, request, jsonify\n",
    "import pymongo\n",
    "import webbrowser\n",
    "\n",
    "# connect Mongo DB to flask \n",
    "client = pymongo.MongoClient(\"mongodb://localhost:27017/\")\n",
    "db = client[\"Nameofdb\"]\n",
    "collection = db[\"NameofCollection\"]\n",
    "\n",
    "# Sample of queries using MongoDB\n",
    "student = []\n",
    "\n",
    "tbl = \"<tr><td>Name</td><td>Age</td><td>gender</td></tr>\"\n",
    "student.append(tbl)\n",
    "\n",
    "for y in mycol.find():\n",
    "    a = \"<tr><td>%s</td>\"%y['name']\n",
    "    student.append(a)\n",
    "    b = \"<td>%s</td>\"%y['age']\n",
    "    student.append(b)\n",
    "    c = \"<td>%s</td></tr>\"%y['gender']\n",
    "    student.append(c)\n",
    "\n",
    "# contents of HTML \n",
    "contents = '''<!DOCTYPE html PUBLIC \"-//W3C//DTD HTML 4.01 Transitional//EN\">\n",
    "<html>\n",
    "<head>\n",
    "<meta content=\"text/html; charset=ISO-8859-1\"\n",
    "http-equiv=\"content-type\">\n",
    "<title>Python Webbrowser</title>\n",
    "</head>\n",
    "<body>\n",
    "<table>\n",
    "%s\n",
    "</table>\n",
    "</body>\n",
    "</html>\n",
    "'''%(student)\n",
    "\n",
    "# Create index to place contents \n",
    "filename = 'index.html'\n",
    "\n",
    "def main(contents, filename):\n",
    "    output = open(filename,\"w\")\n",
    "    output.write(contents)\n",
    "    output.close()\n",
    "    \n",
    "# Running webpage \n",
    "\n",
    "main(contents, filename)    \n",
    "webbrowser.open(filename)"
   ]
  },
  {
   "cell_type": "markdown",
   "id": "73e472bb",
   "metadata": {},
   "source": [
    "Another way is to use Mongoengine \n",
    "pip install flask_mongoengine"
   ]
  },
  {
   "cell_type": "code",
   "execution_count": 5,
   "id": "eeef36f7",
   "metadata": {},
   "outputs": [
    {
     "name": "stdout",
     "output_type": "stream",
     "text": [
      " * Serving Flask app \"__main__\" (lazy loading)\n",
      " * Environment: production\n",
      "\u001b[31m   WARNING: This is a development server. Do not use it in a production deployment.\u001b[0m\n",
      "\u001b[2m   Use a production WSGI server instead.\u001b[0m\n",
      " * Debug mode: on\n"
     ]
    },
    {
     "name": "stderr",
     "output_type": "stream",
     "text": [
      " * Restarting with watchdog (windowsapi)\n"
     ]
    },
    {
     "ename": "SystemExit",
     "evalue": "1",
     "output_type": "error",
     "traceback": [
      "An exception has occurred, use %tb to see the full traceback.\n",
      "\u001b[1;31mSystemExit\u001b[0m\u001b[1;31m:\u001b[0m 1\n"
     ]
    },
    {
     "name": "stderr",
     "output_type": "stream",
     "text": [
      "C:\\Users\\ashle\\anaconda3\\lib\\site-packages\\IPython\\core\\interactiveshell.py:3465: UserWarning: To exit: use 'exit', 'quit', or Ctrl-D.\n",
      "  warn(\"To exit: use 'exit', 'quit', or Ctrl-D.\", stacklevel=1)\n"
     ]
    }
   ],
   "source": [
    "#!/usr/bin/env python\n",
    "# encoding: utf-8\n",
    "import json\n",
    "from flask import Flask, request, jsonify\n",
    "from flask_mongoengine import MongoEngine\n",
    "\n",
    "app = Flask(__name__)\n",
    "app.config['MONGODB_SETTINGS'] = {\n",
    "    'db': 'your_database',\n",
    "    'host': 'localhost',\n",
    "    'port': 27017\n",
    "}\n",
    "db = MongoEngine()\n",
    "db.init_app(app)\n",
    "\n",
    "class User(db.Document):\n",
    "    name = db.StringField()\n",
    "    email = db.StringField()\n",
    "    def to_json(self):\n",
    "        return {\"name\": self.name,\n",
    "                \"email\": self.email}\n",
    "\n",
    "@app.route('/', methods=['GET'])\n",
    "def query_records():\n",
    "    name = request.args.get('name')\n",
    "    user = User.objects(name=name).first()\n",
    "    if not user:\n",
    "        return jsonify({'error': 'data not found'})\n",
    "    else:\n",
    "        return jsonify(user.to_json())\n",
    "\n",
    "@app.route('/', methods=['PUT'])\n",
    "def create_record():\n",
    "    record = json.loads(request.data)\n",
    "    user = User(name=record['name'],\n",
    "                email=record['email'])\n",
    "    user.save()\n",
    "    return jsonify(user.to_json())\n",
    "\n",
    "@app.route('/', methods=['POST'])\n",
    "def update_record():\n",
    "    record = json.loads(request.data)\n",
    "    user = User.objects(name=record['name']).first()\n",
    "    if not user:\n",
    "        return jsonify({'error': 'data not found'})\n",
    "    else:\n",
    "        user.update(email=record['email'])\n",
    "    return jsonify(user.to_json())\n",
    "\n",
    "@app.route('/', methods=['DELETE'])\n",
    "def delete_record():\n",
    "    record = json.loads(request.data)\n",
    "    user = User.objects(name=record['name']).first()\n",
    "    if not user:\n",
    "        return jsonify({'error': 'data not found'})\n",
    "    else:\n",
    "        user.delete()\n",
    "    return jsonify(user.to_json())\n",
    "\n",
    "    app.run(debug=True)"
   ]
  },
  {
   "cell_type": "code",
   "execution_count": null,
   "id": "b769f696",
   "metadata": {},
   "outputs": [],
   "source": [
    "@app.route('/', methods=['GET'])\n",
    "def index():\n",
    "    cur = mongo.db.archive.find({}, {'link': 1, 'title': 1, 'text': 1, 'time': 1, '_id': 0})\n",
    "    return render_template('index.html', cur=list(cur))"
   ]
  }
 ],
 "metadata": {
  "kernelspec": {
   "display_name": "Python 3 (ipykernel)",
   "language": "python",
   "name": "python3"
  },
  "language_info": {
   "codemirror_mode": {
    "name": "ipython",
    "version": 3
   },
   "file_extension": ".py",
   "mimetype": "text/x-python",
   "name": "python",
   "nbconvert_exporter": "python",
   "pygments_lexer": "ipython3",
   "version": "3.9.13"
  }
 },
 "nbformat": 4,
 "nbformat_minor": 5
}
